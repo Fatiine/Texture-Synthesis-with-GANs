{
  "nbformat": 4,
  "nbformat_minor": 0,
  "metadata": {
    "colab": {
      "name": "Copie de water_gan_test.ipynb",
      "version": "0.3.2",
      "provenance": [],
      "collapsed_sections": []
    },
    "kernelspec": {
      "name": "python3",
      "display_name": "Python 3"
    },
    "accelerator": "GPU"
  },
  "cells": [
    {
      "metadata": {
        "id": "FXS8l4uurbuO",
        "colab_type": "code",
        "colab": {}
      },
      "cell_type": "code",
      "source": [
        ""
      ],
      "execution_count": 0,
      "outputs": []
    },
    {
      "metadata": {
        "id": "FHffsU9Qrs-K",
        "colab_type": "code",
        "colab": {
          "base_uri": "https://localhost:8080/",
          "height": 34
        },
        "outputId": "ef033b4b-9703-4997-8dee-89ffa53aa7e1"
      },
      "cell_type": "code",
      "source": [
        "import pdb\n",
        "import matplotlib.pyplot as plt\n",
        "import sys\n",
        "import numpy as np\n",
        "import pickle\n",
        "import copy\n",
        "import os\n",
        "from PIL import Image\n",
        "\n",
        "import tensorflow as tf\n",
        "config = tf.ConfigProto()\n",
        "#config.gpu_options.allow_growth = True\n",
        "config.gpu_options.per_process_gpu_memory_fraction = 0.3\n",
        "session = tf.Session(config=config)\n",
        "\n",
        "from keras.datasets import mnist\n",
        "from keras.layers import Input, Dense, Reshape, Flatten, Dropout, BatchNormalization, Activation, ZeroPadding2D, MaxPooling2D\n",
        "from keras.layers.advanced_activations import LeakyReLU\n",
        "from keras.layers.convolutional import UpSampling2D, Conv2D, Conv2DTranspose\n",
        "from keras.models import Sequential, Model, load_model\n",
        "from keras.optimizers import Adam\n",
        "from keras import backend as K\n",
        "from keras.backend.tensorflow_backend import set_session"
      ],
      "execution_count": 4,
      "outputs": [
        {
          "output_type": "stream",
          "text": [
            "Using TensorFlow backend.\n"
          ],
          "name": "stderr"
        }
      ]
    },
    {
      "metadata": {
        "id": "r1ZL-FDtx67z",
        "colab_type": "code",
        "outputId": "6b04dbe8-46ad-462a-e10e-2132ff9f8257",
        "colab": {
          "base_uri": "https://localhost:8080/",
          "height": 34
        }
      },
      "cell_type": "code",
      "source": [
        "from google.colab import drive\n",
        "drive.mount(\"/content/drive\", force_remount=True)"
      ],
      "execution_count": 5,
      "outputs": [
        {
          "output_type": "stream",
          "text": [
            "Mounted at /content/drive\n"
          ],
          "name": "stdout"
        }
      ]
    },
    {
      "metadata": {
        "id": "py4crw0errbL",
        "colab_type": "code",
        "colab": {}
      },
      "cell_type": "code",
      "source": [
        "class GAN():\n",
        "    def __init__(self,dataset_name='',load_model_name=''):\n",
        "        \n",
        "        optimizer = Adam(0.0002, 0.5)\n",
        "        \n",
        "        if (load_model_name == ''):\n",
        "            #X_train = self.load_gan_data(dataset_name)\n",
        "            \n",
        "            print(\"Loading dataset...\")\n",
        "            \n",
        "            ndata = 200\n",
        "            patch_size = 128\n",
        "            self.patch_size = patch_size\n",
        "            \n",
        "            self.X_tr = np.zeros((ndata, patch_size, patch_size, 3))\n",
        "            \n",
        "            for i in range(ndata):\n",
        "              if(i%10==0):\n",
        "                print(\"Image \",i+1)\n",
        "              im = Image.open(\"drive/My Drive/texture/patchset1/patchno\"+str(i)+\".jpg\")\n",
        "              self.X_tr[i,:,:,:] = np.array(im)/255\n",
        "            \n",
        "            print(\"Dataset loaded.\")\n",
        "            \n",
        "            # default parameters for mnist \n",
        "            self.img_rows = self.X_tr.shape[1]\n",
        "            self.img_cols = self.X_tr.shape[2]\n",
        "            self.img_channels = self.X_tr.shape[3]\n",
        "            self.img_shape = (self.img_rows, self.img_cols, self.img_channels)\n",
        "            self.z_dim = 5\n",
        "            self.iter_count = 0\n",
        "            self.dataset_name = dataset_name\n",
        "            self.model_file = 'models/'+self.dataset_name+'_gan_model.pickle'#\n",
        "\n",
        "            # Build and compile the discriminator and discriminator loss\n",
        "            self.discriminator = self.build_discriminator()\n",
        "            # set discriminator loss\n",
        "            # BEGIN INSERT CODE\n",
        "            self.discriminator.compile(loss='binary_crossentropy', optimizer=optimizer, metrics=['accuracy'])\n",
        "            # END INSERT CODE\n",
        "\n",
        "            # Build the generator\n",
        "            self.generator = self.build_generator()\n",
        "\n",
        "        else:\n",
        "            #load gan class and models (generator, discriminator and stacked model)\n",
        "            self.load_gan_model(load_model_name)\n",
        "\n",
        "        # Create the stacked model\n",
        "        #first, create the random vector z in the latent space\n",
        "        z = Input(shape=(self.z_dim,))\n",
        "        #create generated (fake) image\n",
        "        img = self.generator(z)\n",
        "\n",
        "        #indicate that for the stacked model, the weights are not trained\n",
        "        self.discriminator.trainable = False\n",
        "\n",
        "        # The discriminator takes generated images as input and gives a probability of whether it is a true or\n",
        "        #false image\n",
        "        p_true = self.discriminator(img)\n",
        "\n",
        "        # The combined model  (stacked generator and discriminator)\n",
        "        # In this model, we train the generator only\n",
        "        self.stacked_gen_disc = Model(z, p_true)\n",
        "\n",
        "        # loss\n",
        "        # START INSERT CODE HERE\n",
        "        generator_loss = K.mean(K.log(1 - p_true))\n",
        "        # END INSERT CODE HERE\n",
        "        self.stacked_gen_disc.add_loss(generator_loss)\n",
        "        self.stacked_gen_disc.compile(optimizer=optimizer)\n",
        "\n",
        "\n",
        "    def build_generator(self):\n",
        "\n",
        "        z_rand = Input(shape=(self.z_dim,))\n",
        "\n",
        "        # START INSERT CODE HERE\n",
        "        out = Dense(192)(z_rand)\n",
        "        out = LeakyReLU(0.2)(out)\n",
        "        out = Reshape((self.patch_size//2//2//2//2,self.patch_size//2//2//2//2,3))(out)\n",
        "        out = Conv2DTranspose(50,3,strides=(2,2),padding=\"same\", activation = \"relu\")(out)\n",
        "        out = Conv2DTranspose(50,3,strides=(2,2),padding=\"same\", activation = \"relu\")(out)\n",
        "        out = Conv2DTranspose(50,3,strides=(2,2),padding=\"same\", activation = \"relu\")(out)\n",
        "        out = Conv2DTranspose(50,3,strides=(2,2),padding=\"same\", activation = \"relu\")(out)\n",
        "        out = Conv2D(3,3,padding=\"same\")(out)\n",
        "        output_img = out\n",
        "        # END INSERT CODE HERE\n",
        "\n",
        "        model_generator = Model(z_rand, output_img)\n",
        "        model_generator.summary()\n",
        "\n",
        "        return model_generator\n",
        "\n",
        "    def build_discriminator(self):\n",
        "\n",
        "        input_img = Input(shape=self.img_shape)\n",
        "        '''\n",
        "        out = Conv2D(50,3,strides=(2,2), activation = \"relu\")(input_img)\n",
        "        out = Conv2D(50,3,strides=(2,2), activation = \"relu\")(out)\n",
        "        out = Conv2D(50,3,strides=(2,2), activation = \"relu\")(out)\n",
        "        out = Conv2D(50,3,strides=(2,2), activation = \"relu\")(out)\n",
        "        '''\n",
        "        out = Conv2D(50,5,strides=(1,1), activation = \"relu\")(input_img)\n",
        "        out = MaxPooling2D((2,2), padding=\"same\")(out)\n",
        "        out = Conv2D(50,4,strides=(1,1), activation = \"relu\")(out)\n",
        "        out = MaxPooling2D((2,2), padding=\"same\")(out)\n",
        "        out = Conv2D(50,3,strides=(1,1), activation = \"relu\")(out)\n",
        "        out = MaxPooling2D((2,2), padding=\"same\")(out)\n",
        "        out = Conv2D(50,3,strides=(1,1), activation = \"relu\")(out)\n",
        "        out = MaxPooling2D((2,2), padding=\"same\")(out)\n",
        "        out = Conv2D(50,3,strides=(1,1), activation = \"relu\")(out)\n",
        "        out = MaxPooling2D((2,2), padding=\"same\")(out)\n",
        "        out = Flatten()(out)\n",
        "        out = Dense(100)(out)\n",
        "        out = LeakyReLU(0.2)(out)\n",
        "        out = Dense(1)(out)\n",
        "        out = Activation('sigmoid')(out)\n",
        "        p_true = out\n",
        "        \n",
        "        model_discriminator = Model(input_img, p_true)\n",
        "        model_discriminator.summary()\n",
        "\n",
        "        return model_discriminator\n",
        "\n",
        "    def load_gan_data(self,dataset_name):\n",
        "        # Load the dataset\n",
        "        if(dataset_name == 'mnist'):\n",
        "            (X_train, _), (_, _) = mnist.load_data()\n",
        "        elif(dataset_name == 'cifar'):\n",
        "            from keras.datasets import cifar10\n",
        "            (X_train, y_train), (X_test, y_test) = cifar10.load_data()\n",
        "        else:\n",
        "            print('Error, unknown database')\n",
        "\n",
        "        # Rescale -1 to 1\n",
        "        X_train = X_train / 127.5 - 1.\n",
        "        #add a channel dimension, if need be (for mnist data)\n",
        "        if(X_train.ndim ==3):\n",
        "            X_train = np.expand_dims(X_train, axis=3)\n",
        "        return X_train\n",
        "\n",
        "    def save_gan_model(self, model_file):\n",
        "\n",
        "        #save the GAN class instance\n",
        "        gan_temp = GAN(self.dataset_name,'')\n",
        "        gan_temp.generator = self.generator\n",
        "        gan_temp.discriminator = self.discriminator\n",
        "        gan_temp.stacked_gen_disc = []\n",
        "        gan_temp.iter_count = self.iter_count\n",
        "        with open(model_file,'wb') as file_class:\n",
        "            pickle.dump(gan_temp,file_class,-1)\n",
        "\n",
        "    def load_gan_model(self, model_file):\n",
        "\n",
        "        #load GAN class instance\n",
        "        gan_temp = pickle.load(open(model_file,\"rb\",-1))\n",
        "        #copy parameters\n",
        "        self.img_rows = gan_temp.img_rows \n",
        "        self.img_cols = gan_temp.img_cols \n",
        "        self.img_channels = gan_temp.img_channels \n",
        "        self.img_shape = gan_temp.img_shape\n",
        "        self.z_dim = gan_temp.z_dim\n",
        "        self.iter_count = gan_temp.iter_count\n",
        "        self.model_file = gan_temp.model_file\n",
        "        self.dataset_name = gan_temp.dataset_name\n",
        "\n",
        "        #copy models\n",
        "        self.generator = gan_temp.generator\n",
        "        self.discriminator = gan_temp.discriminator\n",
        "\n",
        "    def train(self, epochs, batch_size=128, sample_interval=50):\n",
        "        \n",
        "        k=1    #number of internal loops\n",
        "\n",
        "        #load dataset\n",
        "        X_train = self.X_tr\n",
        "\n",
        "        # Adversarial ground truths\n",
        "        d_output_true = np.ones((batch_size, 1))-2*0.3*(np.random.rand()-0.5)\n",
        "        d_output_false = np.zeros((batch_size, 1))+0.25*np.random.rand()\n",
        "\n",
        "        first_iter =self.iter_count\n",
        "\n",
        "        for epoch in range(first_iter,epochs):\n",
        "\n",
        "            # ---------------------\n",
        "            #  Train Discriminator\n",
        "            # ---------------------\n",
        "\n",
        "            # Train the discriminator\n",
        "            for i in range(0,k):\n",
        "                # Select a random batch of images\n",
        "                idx = np.random.randint(0, X_train.shape[0], batch_size)\n",
        "                imgs = X_train[idx]\n",
        "\n",
        "                z_random = np.random.normal(0, 1, (batch_size, self.z_dim))\n",
        "\n",
        "                # Generate a batch of new (fake) images\n",
        "                gen_imgs = self.generator.predict(z_random)\n",
        "                \n",
        "                # START INSERT CODE\n",
        "                d_loss_real = self.discriminator.train_on_batch(imgs, d_output_true)\n",
        "                d_loss_fake = self.discriminator.train_on_batch(gen_imgs, d_output_false)\n",
        "                # END INSERT CODE\n",
        "                d_loss = 0.5 * np.add(d_loss_real, d_loss_fake)\n",
        "            \n",
        "            # ---------------------\n",
        "            #  Train Generator\n",
        "            # ---------------------\n",
        "\n",
        "            # Select a random batch of images\n",
        "            idx = np.random.randint(0, X_train.shape[0], batch_size)\n",
        "            imgs = X_train[idx]\n",
        "\n",
        "            z_random = np.random.normal(0, 1, (batch_size, self.z_dim))\n",
        "\n",
        "            # Generate a batch of new (fake) images\n",
        "            gen_imgs = self.generator.predict(z_random)\n",
        "            # Generator training : try to make generated images be classified as true by the discriminator\n",
        "            g_loss = self.stacked_gen_disc.train_on_batch(z_random,None)\n",
        "\n",
        "            # increase epoch counter\n",
        "            self.iter_count = self.iter_count+1\n",
        "            # Plot the losses\n",
        "            print(\"%d [D loss: %f, acc.: %.2f%%] [G loss: %f]\" % (epoch, d_loss[0], 100*d_loss[1], g_loss))\n",
        "\n",
        "            # Save some random generated images and the models at every sample_interval iterations\n",
        "            #if (epoch % sample_interval == 0):\n",
        "            #    self.sample_images('images/'+self.dataset_name+'_sample_%06d.png' % epoch)\n",
        "            #    self.save_gan_model(self.model_file)\n",
        "\n",
        "    def sample_images(self, image_filename, rand_seed=30):\n",
        "        np.random.seed(rand_seed)\n",
        "\n",
        "        r, c = 2, 2\n",
        "        z_random = np.random.normal(0, 1, (r * c, self.z_dim))\n",
        "        gen_imgs = self.generator.predict(z_random)\n",
        "\n",
        "        # Rescale images 0 - 1\n",
        "        gen_imgs = 0.5 * gen_imgs + 0.5\n",
        "\n",
        "        fig, axs = plt.subplots(r, c)\n",
        "        cnt = 0\n",
        "        for i in range(r):\n",
        "            for j in range(c):\n",
        "                #black and white images\n",
        "                if(gen_imgs.shape[3] == 1):\n",
        "                    axs[i,j].imshow(gen_imgs[cnt, :,:,0], cmap='gray')\n",
        "                elif(gen_imgs.shape[3] == 3):   #colour images\n",
        "                    axs[i,j].imshow(gen_imgs[cnt, :,:], vmin=0, vmax=1)\n",
        "                else:\n",
        "                    print('Error, unsupported channel size. Dude, I don''t know what you want me to do.\\\n",
        "                            I can''t handle this data. You''ve made me very sad ...')\n",
        "                axs[i,j].axis('off')\n",
        "                cnt += 1\n",
        "        fig.savefig(image_filename)\n",
        "        plt.close()"
      ],
      "execution_count": 0,
      "outputs": []
    },
    {
      "metadata": {
        "id": "EQHAcAS-r3Fq",
        "colab_type": "code",
        "outputId": "903b6653-009d-43ad-ee09-15c2e854690f",
        "colab": {
          "base_uri": "https://localhost:8080/",
          "height": 3363
        }
      },
      "cell_type": "code",
      "source": [
        "if __name__ == '__main__':\n",
        "\n",
        "    #create the output image and model directories\n",
        "    if (os.path.isdir('images')==0):\n",
        "        os.mkdir('images')\n",
        "    if (os.path.isdir('models')==0):\n",
        "        os.mkdir('models')\n",
        "\n",
        "    #choose dataset\n",
        "    dataset_name = 'mnist'#\n",
        "\n",
        "    #create GAN model\n",
        "    set_session(session)\n",
        "\n",
        "    #create GAN model\n",
        "    model_file = ''#'models/'+dataset_name+'_gan_model.pickle'#\n",
        "    gan = GAN()#,\n",
        "    is_training = 1\n",
        "\n",
        "    if (is_training ==1):\n",
        "        gan.train(epochs=101, batch_size=64, sample_interval=64)\n",
        "    else:\n",
        "        gan.sample_images('images/test_images.png')"
      ],
      "execution_count": 33,
      "outputs": [
        {
          "output_type": "stream",
          "text": [
            "Loading dataset...\n",
            "Image  1\n",
            "Image  11\n",
            "Image  21\n",
            "Image  31\n",
            "Image  41\n",
            "Image  51\n",
            "Image  61\n",
            "Image  71\n",
            "Image  81\n",
            "Image  91\n",
            "Image  101\n",
            "Image  111\n",
            "Image  121\n",
            "Image  131\n",
            "Image  141\n",
            "Image  151\n",
            "Image  161\n",
            "Image  171\n",
            "Image  181\n",
            "Image  191\n",
            "Dataset loaded.\n",
            "_________________________________________________________________\n",
            "Layer (type)                 Output Shape              Param #   \n",
            "=================================================================\n",
            "input_27 (InputLayer)        (None, 128, 128, 3)       0         \n",
            "_________________________________________________________________\n",
            "conv2d_57 (Conv2D)           (None, 124, 124, 50)      3800      \n",
            "_________________________________________________________________\n",
            "max_pooling2d_46 (MaxPooling (None, 62, 62, 50)        0         \n",
            "_________________________________________________________________\n",
            "conv2d_58 (Conv2D)           (None, 59, 59, 50)        40050     \n",
            "_________________________________________________________________\n",
            "max_pooling2d_47 (MaxPooling (None, 30, 30, 50)        0         \n",
            "_________________________________________________________________\n",
            "conv2d_59 (Conv2D)           (None, 28, 28, 50)        22550     \n",
            "_________________________________________________________________\n",
            "max_pooling2d_48 (MaxPooling (None, 14, 14, 50)        0         \n",
            "_________________________________________________________________\n",
            "conv2d_60 (Conv2D)           (None, 12, 12, 50)        22550     \n",
            "_________________________________________________________________\n",
            "max_pooling2d_49 (MaxPooling (None, 6, 6, 50)          0         \n",
            "_________________________________________________________________\n",
            "conv2d_61 (Conv2D)           (None, 4, 4, 50)          22550     \n",
            "_________________________________________________________________\n",
            "max_pooling2d_50 (MaxPooling (None, 2, 2, 50)          0         \n",
            "_________________________________________________________________\n",
            "flatten_10 (Flatten)         (None, 200)               0         \n",
            "_________________________________________________________________\n",
            "dense_26 (Dense)             (None, 100)               20100     \n",
            "_________________________________________________________________\n",
            "leaky_re_lu_17 (LeakyReLU)   (None, 100)               0         \n",
            "_________________________________________________________________\n",
            "dense_27 (Dense)             (None, 1)                 101       \n",
            "_________________________________________________________________\n",
            "activation_10 (Activation)   (None, 1)                 0         \n",
            "=================================================================\n",
            "Total params: 131,701\n",
            "Trainable params: 131,701\n",
            "Non-trainable params: 0\n",
            "_________________________________________________________________\n",
            "_________________________________________________________________\n",
            "Layer (type)                 Output Shape              Param #   \n",
            "=================================================================\n",
            "input_28 (InputLayer)        (None, 5)                 0         \n",
            "_________________________________________________________________\n",
            "dense_28 (Dense)             (None, 192)               1152      \n",
            "_________________________________________________________________\n",
            "leaky_re_lu_18 (LeakyReLU)   (None, 192)               0         \n",
            "_________________________________________________________________\n",
            "reshape_10 (Reshape)         (None, 8, 8, 3)           0         \n",
            "_________________________________________________________________\n",
            "conv2d_transpose_27 (Conv2DT (None, 16, 16, 50)        1400      \n",
            "_________________________________________________________________\n",
            "conv2d_transpose_28 (Conv2DT (None, 32, 32, 50)        22550     \n",
            "_________________________________________________________________\n",
            "conv2d_transpose_29 (Conv2DT (None, 64, 64, 50)        22550     \n",
            "_________________________________________________________________\n",
            "conv2d_transpose_30 (Conv2DT (None, 128, 128, 50)      22550     \n",
            "_________________________________________________________________\n",
            "conv2d_62 (Conv2D)           (None, 128, 128, 3)       1353      \n",
            "=================================================================\n",
            "Total params: 71,555\n",
            "Trainable params: 71,555\n",
            "Non-trainable params: 0\n",
            "_________________________________________________________________\n"
          ],
          "name": "stdout"
        },
        {
          "output_type": "stream",
          "text": [
            "/usr/local/lib/python3.6/dist-packages/keras/engine/training.py:490: UserWarning: Discrepancy between trainable weights and collected trainable weights, did you set `model.trainable` without calling `model.compile` after ?\n",
            "  'Discrepancy between trainable weights and collected trainable'\n"
          ],
          "name": "stderr"
        },
        {
          "output_type": "stream",
          "text": [
            "0 [D loss: 0.675113, acc.: 0.00%] [G loss: -0.694296]\n",
            "1 [D loss: 0.656005, acc.: 0.00%] [G loss: -0.694555]\n",
            "2 [D loss: 0.626130, acc.: 0.00%] [G loss: -0.695119]\n",
            "3 [D loss: 0.590266, acc.: 0.00%] [G loss: -0.695888]\n",
            "4 [D loss: 0.544152, acc.: 0.00%] [G loss: -0.696824]\n",
            "5 [D loss: 0.514070, acc.: 0.00%] [G loss: -0.696783]\n",
            "6 [D loss: 0.506796, acc.: 0.00%] [G loss: -0.694477]\n",
            "7 [D loss: 0.505233, acc.: 0.00%] [G loss: -0.692417]\n",
            "8 [D loss: 0.505016, acc.: 0.00%] [G loss: -0.691483]\n",
            "9 [D loss: 0.504517, acc.: 0.00%] [G loss: -0.690017]\n",
            "10 [D loss: 0.503698, acc.: 0.00%] [G loss: -0.688701]\n",
            "11 [D loss: 0.503157, acc.: 0.00%] [G loss: -0.687241]\n",
            "12 [D loss: 0.502585, acc.: 0.00%] [G loss: -0.685563]\n",
            "13 [D loss: 0.503897, acc.: 0.00%] [G loss: -0.684656]\n",
            "14 [D loss: 0.505620, acc.: 0.00%] [G loss: -0.682189]\n",
            "15 [D loss: 0.501921, acc.: 0.00%] [G loss: -0.679961]\n",
            "16 [D loss: 0.500349, acc.: 0.00%] [G loss: -0.677130]\n",
            "17 [D loss: 0.499792, acc.: 0.00%] [G loss: -0.673985]\n",
            "18 [D loss: 0.498665, acc.: 0.00%] [G loss: -0.669917]\n",
            "19 [D loss: 0.497210, acc.: 0.00%] [G loss: -0.664666]\n",
            "20 [D loss: 0.496635, acc.: 0.00%] [G loss: -0.659598]\n",
            "21 [D loss: 0.497019, acc.: 0.00%] [G loss: -0.651415]\n",
            "22 [D loss: 0.492102, acc.: 0.00%] [G loss: -0.638345]\n",
            "23 [D loss: 0.486478, acc.: 0.00%] [G loss: -0.617015]\n",
            "24 [D loss: 0.479684, acc.: 0.00%] [G loss: -0.587399]\n",
            "25 [D loss: 0.468728, acc.: 0.00%] [G loss: -0.533223]\n",
            "26 [D loss: 0.892841, acc.: 0.00%] [G loss: -0.606159]\n",
            "27 [D loss: 0.554092, acc.: 0.00%] [G loss: -0.614858]\n",
            "28 [D loss: 0.504013, acc.: 0.00%] [G loss: -0.609194]\n",
            "29 [D loss: 0.479472, acc.: 0.00%] [G loss: -0.602729]\n",
            "30 [D loss: 0.478678, acc.: 0.00%] [G loss: -0.596216]\n",
            "31 [D loss: 0.475541, acc.: 0.00%] [G loss: -0.589267]\n",
            "32 [D loss: 0.473583, acc.: 0.00%] [G loss: -0.582058]\n",
            "33 [D loss: 0.471511, acc.: 0.00%] [G loss: -0.574303]\n",
            "34 [D loss: 0.469443, acc.: 0.00%] [G loss: -0.566057]\n",
            "35 [D loss: 0.467437, acc.: 0.00%] [G loss: -0.557273]\n",
            "36 [D loss: 0.464954, acc.: 0.00%] [G loss: -0.547527]\n",
            "37 [D loss: 0.462393, acc.: 0.00%] [G loss: -0.536785]\n",
            "38 [D loss: 0.459420, acc.: 0.00%] [G loss: -0.524918]\n",
            "39 [D loss: 0.456471, acc.: 0.00%] [G loss: -0.511521]\n",
            "40 [D loss: 0.453123, acc.: 0.00%] [G loss: -0.495547]\n",
            "41 [D loss: 0.449046, acc.: 0.00%] [G loss: -0.474564]\n",
            "42 [D loss: 0.442994, acc.: 0.00%] [G loss: -0.446710]\n",
            "43 [D loss: 0.436355, acc.: 0.00%] [G loss: -0.412038]\n",
            "44 [D loss: 0.426243, acc.: 0.00%] [G loss: -0.363230]\n",
            "45 [D loss: 0.457610, acc.: 0.00%] [G loss: -0.419435]\n",
            "46 [D loss: 0.473535, acc.: 0.00%] [G loss: -0.369772]\n",
            "47 [D loss: 0.419828, acc.: 0.00%] [G loss: -0.313727]\n",
            "48 [D loss: 0.416303, acc.: 0.00%] [G loss: -0.275820]\n",
            "49 [D loss: 0.406964, acc.: 0.00%] [G loss: -0.250464]\n",
            "50 [D loss: 0.403578, acc.: 0.00%] [G loss: -0.228802]\n",
            "51 [D loss: 0.405191, acc.: 0.00%] [G loss: -0.241612]\n",
            "52 [D loss: 0.405470, acc.: 0.00%] [G loss: -0.199419]\n",
            "53 [D loss: 0.603744, acc.: 0.00%] [G loss: -0.488275]\n",
            "54 [D loss: 0.456843, acc.: 0.00%] [G loss: -0.187378]\n",
            "55 [D loss: 0.496792, acc.: 0.00%] [G loss: -0.287550]\n",
            "56 [D loss: 0.408826, acc.: 0.00%] [G loss: -0.171670]\n",
            "57 [D loss: 0.798980, acc.: 0.00%] [G loss: -1.146623]\n",
            "58 [D loss: 0.685384, acc.: 0.00%] [G loss: -0.897532]\n",
            "59 [D loss: 0.654101, acc.: 0.00%] [G loss: -0.842653]\n",
            "60 [D loss: 0.685495, acc.: 0.00%] [G loss: -0.846908]\n",
            "61 [D loss: 0.704569, acc.: 0.00%] [G loss: -0.851670]\n",
            "62 [D loss: 0.708429, acc.: 0.00%] [G loss: -0.835248]\n",
            "63 [D loss: 0.718852, acc.: 0.00%] [G loss: -0.790684]\n",
            "64 [D loss: 0.720542, acc.: 0.00%] [G loss: -0.746667]\n",
            "65 [D loss: 0.710349, acc.: 0.00%] [G loss: -0.711359]\n",
            "66 [D loss: 0.710168, acc.: 0.00%] [G loss: -0.683726]\n",
            "67 [D loss: 0.705717, acc.: 0.00%] [G loss: -0.656166]\n",
            "68 [D loss: 0.703198, acc.: 0.00%] [G loss: -0.638027]\n",
            "69 [D loss: 0.701262, acc.: 0.00%] [G loss: -0.623012]\n",
            "70 [D loss: 0.700541, acc.: 0.00%] [G loss: -0.619579]\n",
            "71 [D loss: 0.699627, acc.: 0.00%] [G loss: -0.613146]\n",
            "72 [D loss: 0.700223, acc.: 0.00%] [G loss: -0.613256]\n",
            "73 [D loss: 0.700023, acc.: 0.00%] [G loss: -0.614967]\n",
            "74 [D loss: 0.701199, acc.: 0.00%] [G loss: -0.619609]\n",
            "75 [D loss: 0.700639, acc.: 0.00%] [G loss: -0.623353]\n",
            "76 [D loss: 0.700939, acc.: 0.00%] [G loss: -0.628548]\n",
            "77 [D loss: 0.700670, acc.: 0.00%] [G loss: -0.632207]\n",
            "78 [D loss: 0.700003, acc.: 0.00%] [G loss: -0.635510]\n",
            "79 [D loss: 0.700819, acc.: 0.00%] [G loss: -0.640691]\n",
            "80 [D loss: 0.700735, acc.: 0.00%] [G loss: -0.644363]\n",
            "81 [D loss: 0.700246, acc.: 0.00%] [G loss: -0.648269]\n",
            "82 [D loss: 0.700169, acc.: 0.00%] [G loss: -0.652933]\n",
            "83 [D loss: 0.700470, acc.: 0.00%] [G loss: -0.656363]\n",
            "84 [D loss: 0.699989, acc.: 0.00%] [G loss: -0.659787]\n",
            "85 [D loss: 0.699446, acc.: 0.00%] [G loss: -0.662465]\n",
            "86 [D loss: 0.698653, acc.: 0.00%] [G loss: -0.666420]\n",
            "87 [D loss: 0.698777, acc.: 0.00%] [G loss: -0.670597]\n",
            "88 [D loss: 0.699098, acc.: 0.00%] [G loss: -0.674082]\n",
            "89 [D loss: 0.698487, acc.: 0.00%] [G loss: -0.674930]\n",
            "90 [D loss: 0.697914, acc.: 0.00%] [G loss: -0.678486]\n",
            "91 [D loss: 0.698782, acc.: 0.00%] [G loss: -0.678889]\n",
            "92 [D loss: 0.697484, acc.: 0.00%] [G loss: -0.681995]\n",
            "93 [D loss: 0.697947, acc.: 0.00%] [G loss: -0.684329]\n",
            "94 [D loss: 0.698341, acc.: 0.00%] [G loss: -0.685256]\n",
            "95 [D loss: 0.697718, acc.: 0.00%] [G loss: -0.685443]\n",
            "96 [D loss: 0.698152, acc.: 0.00%] [G loss: -0.686827]\n",
            "97 [D loss: 0.698020, acc.: 0.00%] [G loss: -0.688229]\n",
            "98 [D loss: 0.697654, acc.: 0.00%] [G loss: -0.688086]\n",
            "99 [D loss: 0.698402, acc.: 0.00%] [G loss: -0.688164]\n",
            "100 [D loss: 0.698585, acc.: 0.00%] [G loss: -0.687151]\n"
          ],
          "name": "stdout"
        }
      ]
    },
    {
      "metadata": {
        "id": "po1Im1Qg1NWl",
        "colab_type": "code",
        "outputId": "68144339-b391-4529-fb2e-42ef6d7bc810",
        "colab": {
          "base_uri": "https://localhost:8080/",
          "height": 87
        }
      },
      "cell_type": "code",
      "source": [
        "gan.sample_images('images/test_images2_12.png')"
      ],
      "execution_count": 34,
      "outputs": [
        {
          "output_type": "stream",
          "text": [
            "Clipping input data to the valid range for imshow with RGB data ([0..1] for floats or [0..255] for integers).\n",
            "Clipping input data to the valid range for imshow with RGB data ([0..1] for floats or [0..255] for integers).\n",
            "Clipping input data to the valid range for imshow with RGB data ([0..1] for floats or [0..255] for integers).\n",
            "Clipping input data to the valid range for imshow with RGB data ([0..1] for floats or [0..255] for integers).\n"
          ],
          "name": "stderr"
        }
      ]
    },
    {
      "metadata": {
        "id": "kRuuKf9MFzgu",
        "colab_type": "code",
        "colab": {}
      },
      "cell_type": "code",
      "source": [
        "im = Image.open(\"drive/My Drive/texture/patchset3/patchno\"+str(0)+\".jpg\")"
      ],
      "execution_count": 0,
      "outputs": []
    },
    {
      "metadata": {
        "id": "o6uUaXwsF6Sl",
        "colab_type": "code",
        "outputId": "3b333e13-8182-462f-9b1d-6b2b8ba2e13e",
        "colab": {
          "base_uri": "https://localhost:8080/",
          "height": 365
        }
      },
      "cell_type": "code",
      "source": [
        "import matplotlib.pyplot as plt\n",
        "\n",
        "plt.imshow(im)"
      ],
      "execution_count": 0,
      "outputs": [
        {
          "output_type": "execute_result",
          "data": {
            "text/plain": [
              "<matplotlib.image.AxesImage at 0x7fc993f785c0>"
            ]
          },
          "metadata": {
            "tags": []
          },
          "execution_count": 27
        },
        {
          "output_type": "display_data",
          "data": {
            "image/png": "[encoded data removed]",
            "text/plain": [
              "<Figure size 576x396 with 1 Axes>"
            ]
          },
          "metadata": {
            "tags": []
          }
        }
      ]
    },
    {
      "metadata": {
        "id": "wGwrxWfLGLyR",
        "colab_type": "code",
        "outputId": "42dcb850-8b65-4ba1-83da-6814bbe94c88",
        "colab": {
          "base_uri": "https://localhost:8080/",
          "height": 34
        }
      },
      "cell_type": "code",
      "source": [
        "np.array(im).shape"
      ],
      "execution_count": 0,
      "outputs": [
        {
          "output_type": "execute_result",
          "data": {
            "text/plain": [
              "(32, 32, 3)"
            ]
          },
          "metadata": {
            "tags": []
          },
          "execution_count": 28
        }
      ]
    },
    {
      "metadata": {
        "id": "daKr6S4XKvV3",
        "colab_type": "code",
        "outputId": "6bfc9323-20a1-4803-8137-ccf3b845fb0b",
        "colab": {
          "base_uri": "https://localhost:8080/",
          "height": 34
        }
      },
      "cell_type": "code",
      "source": [
        "np.max(im)"
      ],
      "execution_count": 0,
      "outputs": [
        {
          "output_type": "execute_result",
          "data": {
            "text/plain": [
              "255"
            ]
          },
          "metadata": {
            "tags": []
          },
          "execution_count": 29
        }
      ]
    }
  ]
}