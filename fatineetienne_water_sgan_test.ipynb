{
  "nbformat": 4,
  "nbformat_minor": 0,
  "metadata": {
    "colab": {
      "name": "workingfatine_water_sgan_test.ipynb",
      "version": "0.3.2",
      "provenance": [],
      "collapsed_sections": []
    },
    "kernelspec": {
      "name": "python3",
      "display_name": "Python 3"
    },
    "accelerator": "GPU"
  },
  "cells": [
    {
      "metadata": {
        "id": "FHffsU9Qrs-K",
        "colab_type": "code",
        "colab": {}
      },
      "cell_type": "code",
      "source": [
        "import pdb\n",
        "import matplotlib.pyplot as plt\n",
        "import sys\n",
        "import numpy as np\n",
        "import pickle\n",
        "import copy\n",
        "import os\n",
        "from PIL import Image\n",
        "\n",
        "import tensorflow as tf\n",
        "config = tf.ConfigProto()\n",
        "#config.gpu_options.allow_growth = True\n",
        "config.gpu_options.per_process_gpu_memory_fraction = 0.3\n",
        "session = tf.Session(config=config)\n",
        "\n",
        "from keras.datasets import mnist\n",
        "from keras.layers import Input, Dense, Reshape, Flatten, Dropout, BatchNormalization, Activation, ZeroPadding2D, MaxPooling2D\n",
        "from keras.layers.advanced_activations import LeakyReLU\n",
        "from keras.layers.convolutional import UpSampling2D, Conv2D, Conv2DTranspose\n",
        "from keras.models import Sequential, Model, load_model\n",
        "from keras.optimizers import Adam\n",
        "from keras import backend as K\n",
        "from keras.backend.tensorflow_backend import set_session\n"
      ],
      "execution_count": 0,
      "outputs": []
    },
    {
      "metadata": {
        "id": "r1ZL-FDtx67z",
        "colab_type": "code",
        "outputId": "e4fd31a3-e3b2-4174-d448-e471c7f2a8a1",
        "colab": {
          "base_uri": "https://localhost:8080/",
          "height": 125
        }
      },
      "cell_type": "code",
      "source": [
        "from google.colab import drive\n",
        "drive.mount(\"/content/drive\", force_remount=True)"
      ],
      "execution_count": 2,
      "outputs": [
        {
          "output_type": "stream",
          "text": [
            "Go to this URL in a browser: https://accounts.google.com/o/oauth2/auth?client_id=947318989803-6bn6qk8qdgf4n4g3pfee6491hc0brc4i.apps.googleusercontent.com&redirect_uri=urn%3Aietf%3Awg%3Aoauth%3A2.0%3Aoob&scope=email%20https%3A%2F%2Fwww.googleapis.com%2Fauth%2Fdocs.test%20https%3A%2F%2Fwww.googleapis.com%2Fauth%2Fdrive%20https%3A%2F%2Fwww.googleapis.com%2Fauth%2Fdrive.photos.readonly%20https%3A%2F%2Fwww.googleapis.com%2Fauth%2Fpeopleapi.readonly&response_type=code\n",
            "\n",
            "Enter your authorization code:\n",
            "··········\n",
            "Mounted at /content/drive\n"
          ],
          "name": "stdout"
        }
      ]
    },
    {
      "metadata": {
        "id": "py4crw0errbL",
        "colab_type": "code",
        "colab": {}
      },
      "cell_type": "code",
      "source": [
        "class GAN():\n",
        "    def __init__(self,dataset_name='',load_model_name=''):\n",
        "        \n",
        "        optimizer = Adam(0.0002, 0.5)\n",
        "        \n",
        "        if (load_model_name == ''):\n",
        "            #X_train = self.load_gan_data(dataset_name)\n",
        "            \n",
        "            #print(\"Loading dataset...\")\n",
        "            \n",
        "            ndata = 200\n",
        "            patch_size = 128\n",
        "            self.patch_size = patch_size\n",
        "            \n",
        "            self.X_tr = np.zeros((ndata, patch_size, patch_size, 3))\n",
        "            \n",
        "            for i in range(ndata):\n",
        "              #if(i%10==0):\n",
        "                #print(\"Image \",i+1)\n",
        "              im = Image.open(\"drive/My Drive/texture/patchset1/patchno\"+str(i)+\".jpg\")\n",
        "              self.X_tr[i,:,:,:] = np.array(im)/255\n",
        "            \n",
        "            print(\"Dataset loaded.\")\n",
        "            \n",
        "            # default parameters for mnist \n",
        "            self.img_rows = self.X_tr.shape[1]\n",
        "            self.img_cols = self.X_tr.shape[2]\n",
        "            self.img_channels = self.X_tr.shape[3]\n",
        "            self.img_shape = (self.img_rows, self.img_cols, self.img_channels)\n",
        "            self.z_width = 4\n",
        "            self.z_height = 4\n",
        "            self.z_depth = 16\n",
        "            self.batch_size = 16\n",
        "            self.iter_count = 0\n",
        "            self.dataset_name = dataset_name\n",
        "            self.model_file = 'models/'+self.dataset_name+'_gan_model.pickle'#\n",
        "\n",
        "            # Build and compile the discriminator and discriminator loss\n",
        "            self.discriminator = self.build_discriminator()\n",
        "            # set discriminator loss\n",
        "            # BEGIN INSERT CODE\n",
        "            self.discriminator.compile(loss='binary_crossentropy', optimizer=optimizer, metrics=['accuracy'])\n",
        "            # END INSERT CODE\n",
        "\n",
        "            # Build the generator\n",
        "            self.generator = self.build_generator()\n",
        "\n",
        "        else:\n",
        "            #load gan class and models (generator, discriminator and stacked model)\n",
        "            self.load_gan_model(load_model_name)\n",
        "\n",
        "        # Create the stacked model\n",
        "        #first, create the random vector z in the latent space\n",
        "        z = Input(shape=(self.z_depth,self.z_depth,self.z_depth))\n",
        "        #z = Input(shape=(self.z_dim,))\n",
        "        #create generated (fake) image\n",
        "        img = self.generator(z)\n",
        "\n",
        "        #indicate that for the stacked model, the weights are not trained\n",
        "        self.discriminator.trainable = False\n",
        "\n",
        "        # The discriminator takes generated images as input and gives a probability of whether it is a true or\n",
        "        #false image\n",
        "        print(\"img : \", img.shape)\n",
        "        p_true = self.discriminator(img)\n",
        "\n",
        "        # The combined model  (stacked generator and discriminator)\n",
        "        # In this model, we train the generator only\n",
        "        self.stacked_gen_disc = Model(z, p_true)\n",
        "\n",
        "        # loss\n",
        "        # START INSERT CODE HERE\n",
        "        generator_loss = K.mean(K.log(1 - p_true))\n",
        "        # END INSERT CODE HERE\n",
        "        self.stacked_gen_disc.add_loss(generator_loss)\n",
        "        self.stacked_gen_disc.compile(optimizer=optimizer)\n",
        "\n",
        "\n",
        "    def build_generator(self):\n",
        "\n",
        "        model = Sequential()\n",
        "\n",
        "        model.add(Conv2D(3, kernel_size=5, input_shape=(self.z_depth,self.z_depth,self.z_depth), padding=\"same\"))\n",
        "        model.add(BatchNormalization(momentum=0.9))\n",
        "        model.add(Activation(\"relu\"))\n",
        "        model.add(UpSampling2D())\n",
        "        model.add(Conv2D(128, kernel_size=3, padding=\"same\"))\n",
        "        model.add(BatchNormalization(momentum=0.8))\n",
        "        model.add(Activation(\"relu\"))\n",
        "        model.add(UpSampling2D())\n",
        "        model.add(Conv2D(64, kernel_size=3, padding=\"same\"))\n",
        "        model.add(BatchNormalization(momentum=0.8))\n",
        "        model.add(Activation(\"relu\"))\n",
        "        model.add(UpSampling2D())\n",
        "        model.add(Conv2D(self.img_channels, kernel_size=3, padding=\"same\"))\n",
        "        model.add(Activation(\"tanh\"))\n",
        "\n",
        "        #model.summary()\n",
        "\n",
        "        noise = Input(shape=(self.z_depth,self.z_depth,self.z_depth))\n",
        "        img = model(noise)\n",
        "\n",
        "        return Model(noise, img)\n",
        "\n",
        "    def build_discriminator(self):\n",
        "\n",
        "        model = Sequential()\n",
        "        \n",
        "        model.add(Conv2D(64, kernel_size=5, strides=2, input_shape=self.img_shape, padding=\"same\"))\n",
        "        model.add(LeakyReLU(alpha=0.2))\n",
        "        #model.add(Dropout(0.25))\n",
        "        model.add(Conv2D(128, kernel_size=5, strides=2, padding=\"same\"))\n",
        "        #model.add(ZeroPadding2D(padding=((0,1),(0,1))))\n",
        "        model.add(BatchNormalization(momentum=0.9))\n",
        "        model.add(LeakyReLU(alpha=0.2))\n",
        "        #model.add(Dropout(0.25))\n",
        "        model.add(Conv2D(256, kernel_size=5, strides=2, padding=\"same\"))\n",
        "        model.add(BatchNormalization(momentum=0.9))\n",
        "        model.add(LeakyReLU(alpha=0.2))\n",
        "        #model.add(Dropout(0.25))\n",
        "        model.add(Conv2D(512, kernel_size=5, strides=2, padding=\"same\"))\n",
        "        model.add(BatchNormalization(momentum=0.9))\n",
        "        model.add(LeakyReLU(alpha=0.2))\n",
        "        #model.add(Dropout(0.25))\n",
        "        model.add(Conv2D(1, kernel_size=5, strides=2, padding=\"same\"))\n",
        "        model.add(Activation('sigmoid'))\n",
        "\n",
        "        #model.summary()\n",
        "\n",
        "        img = Input(shape=self.img_shape)\n",
        "        validity = model(img)\n",
        "\n",
        "        return Model(img, validity)\n",
        "\n",
        "    def load_gan_data(self,dataset_name):\n",
        "        # Load the dataset\n",
        "        if(dataset_name == 'mnist'):\n",
        "            (X_train, _), (_, _) = mnist.load_data()\n",
        "        elif(dataset_name == 'cifar'):\n",
        "            from keras.datasets import cifar10\n",
        "            (X_train, y_train), (X_test, y_test) = cifar10.load_data()\n",
        "        else:\n",
        "            print('Error, unknown database')\n",
        "\n",
        "        # Rescale -1 to 1\n",
        "        X_train = X_train / 127.5 - 1.\n",
        "        #add a channel dimension, if need be (for mnist data)\n",
        "        if(X_train.ndim ==3):\n",
        "            X_train = np.expand_dims(X_train, axis=3)\n",
        "        return X_train\n",
        "\n",
        "    def save_gan_model(self, model_file):\n",
        "\n",
        "        #save the GAN class instance\n",
        "        gan_temp = GAN(self.dataset_name,'')\n",
        "        gan_temp.generator = self.generator\n",
        "        gan_temp.discriminator = self.discriminator\n",
        "        gan_temp.stacked_gen_disc = []\n",
        "        gan_temp.iter_count = self.iter_count\n",
        "        with open(model_file,'wb') as file_class:\n",
        "            pickle.dump(gan_temp,file_class,-1)\n",
        "\n",
        "    def load_gan_model(self, model_file):\n",
        "\n",
        "        #load GAN class instance\n",
        "        gan_temp = pickle.load(open(model_file,\"rb\",-1))\n",
        "        #copy parameters\n",
        "        self.img_rows = gan_temp.img_rows \n",
        "        self.img_cols = gan_temp.img_cols \n",
        "        self.img_channels = gan_temp.img_channels \n",
        "        self.img_shape = gan_temp.img_shape\n",
        "        self.z_dim = gan_temp.z_dim\n",
        "        self.iter_count = gan_temp.iter_count\n",
        "        self.model_file = gan_temp.model_file\n",
        "        self.dataset_name = gan_temp.dataset_name\n",
        "\n",
        "        #copy models\n",
        "        self.generator = gan_temp.generator\n",
        "        self.discriminator = gan_temp.discriminator\n",
        "\n",
        "    def train(self, epochs, batch_size=128, sample_interval=50):\n",
        "        \n",
        "        k=1    #number of internal loops\n",
        "\n",
        "        #load dataset\n",
        "        X_train = self.X_tr\n",
        "        # Adversarial ground truths\n",
        "        d_output_true = np.ones((batch_size, self.z_width, self.z_height, 1))-0.3*np.random.rand(batch_size, self.z_width, self.z_height, 1)\n",
        "        d_output_false = np.zeros((batch_size, self.z_width, self.z_height, 1))+0.25*np.random.rand(batch_size, self.z_width, self.z_height, 1)\n",
        "        d_output_true2 = np.ones((batch_size, self.z_width, self.z_height, 1))\n",
        "        d_output_false2 = np.zeros((batch_size, self.z_width, self.z_height, 1))\n",
        "\n",
        "        first_iter =self.iter_count\n",
        "\n",
        "        for epoch in range(first_iter,epochs):\n",
        "\n",
        "            # ---------------------\n",
        "            #  Train Discriminator\n",
        "            # ---------------------\n",
        "\n",
        "            # Train the discriminator\n",
        "            for i in range(0,k):\n",
        "                # Select a random batch of images\n",
        "                idx = np.random.randint(0, X_train.shape[0], batch_size)\n",
        "                imgs = X_train[idx]\n",
        "\n",
        "                z_random = np.random.normal(0, 1, (batch_size, self.z_depth, self.z_depth, self.z_depth))\n",
        "\n",
        "                # Generate a batch of new (fake) images\n",
        "                gen_imgs = self.generator.predict(z_random)\n",
        "                \n",
        "                # START INSERT CODE\n",
        "                d_loss_real = self.discriminator.train_on_batch(imgs, d_output_true)\n",
        "                d_loss_fake = self.discriminator.train_on_batch(gen_imgs, d_output_false)\n",
        "                d_loss_real2 = np.mean(self.discriminator.predict(imgs))\n",
        "                d_loss_fake2 = 1-np.mean(self.discriminator.predict(gen_imgs))\n",
        "                # END INSERT CODE\n",
        "                d_loss = 0.5 * np.add(d_loss_real, d_loss_fake)\n",
        "                d_loss2 = 0.5*(d_loss_real2 + d_loss_fake2)\n",
        "\n",
        "        \n",
        "            \n",
        "            # ---------------------\n",
        "            #  Train Generator\n",
        "            # ---------------------\n",
        "\n",
        "            # Select a random batch of images\n",
        "            idx = np.random.randint(0, X_train.shape[0], batch_size)\n",
        "            imgs = X_train[idx]\n",
        "\n",
        "            z_random = np.random.normal(0, 1, (batch_size, self.z_depth, self.z_depth,self.z_depth))\n",
        "\n",
        "            # Generate a batch of new (fake) images\n",
        "            gen_imgs = self.generator.predict(z_random)\n",
        "            # Generator training : try to make generated images be classified as true by the discriminator\n",
        "            g_loss = self.stacked_gen_disc.train_on_batch(z_random,None)\n",
        "\n",
        "            # increase epoch counter\n",
        "            self.iter_count = self.iter_count+1\n",
        "            # Plot the losses\n",
        "            print(\"%d [D loss: %f, acc.: %.2f%%] [G loss: %f]\" % (epoch, d_loss[0], 100*d_loss2, g_loss))\n",
        "\n",
        "            # Save some random generated images and the models at every sample_interval iterations\n",
        "            if (epoch % 10 == 0):\n",
        "                self.sample_images('images/'+self.dataset_name+'_sample_%06d.png' % epoch)\n",
        "                #self.save_gan_model(self.model_file)\n",
        "\n",
        "    def sample_images(self, image_filename, rand_seed=30):\n",
        "        np.random.seed(rand_seed)\n",
        "\n",
        "        r, c = 2, 2\n",
        "        z_random = np.random.normal(0, 1, (r * c, self.z_depth, self.z_depth, self.z_depth))\n",
        "        gen_imgs = self.generator.predict(z_random)\n",
        "\n",
        "        # Rescale images 0 - 1\n",
        "        gen_imgs = 0.5 * gen_imgs + 0.5\n",
        "\n",
        "        fig, axs = plt.subplots(r, c)\n",
        "        cnt = 0\n",
        "        for i in range(r):\n",
        "            for j in range(c):\n",
        "                #black and white images\n",
        "                if(gen_imgs.shape[3] == 1):\n",
        "                    axs[i,j].imshow(gen_imgs[cnt, :,:,0], cmap='gray')\n",
        "                elif(gen_imgs.shape[3] == 3):   #colour images\n",
        "                    axs[i,j].imshow(gen_imgs[cnt, :,:], vmin=0, vmax=1)\n",
        "                else:\n",
        "                    print('Error, unsupported channel size. Dude, I don''t know what you want me to do.\\\n",
        "                            I can''t handle this data. You''ve made me very sad ...')\n",
        "                axs[i,j].axis('off')\n",
        "                cnt += 1\n",
        "        fig.savefig(image_filename)\n",
        "        plt.close()"
      ],
      "execution_count": 0,
      "outputs": []
    },
    {
      "metadata": {
        "id": "EQHAcAS-r3Fq",
        "colab_type": "code",
        "outputId": "fed9284b-9d1f-487f-a88a-f8665cf022b1",
        "colab": {
          "base_uri": "https://localhost:8080/",
          "height": 3672
        }
      },
      "cell_type": "code",
      "source": [
        "\n",
        "if __name__ == '__main__':\n",
        "\n",
        "    #create the output image and model directories\n",
        "    if (os.path.isdir('images')==0):\n",
        "        os.mkdir('images')\n",
        "    if (os.path.isdir('models')==0):\n",
        "        os.mkdir('models')\n",
        "\n",
        "    #choose dataset\n",
        "    dataset_name = 'mnist'#\n",
        "\n",
        "    #create GAN model\n",
        "    set_session(session)\n",
        "\n",
        "    #create GAN model\n",
        "    model_file = '_gan_model.pickle'\n",
        "    gan = GAN()#,\n",
        "    is_training = 1\n",
        "\n",
        "    if (is_training ==1):\n",
        "        gan.train(epochs=100, batch_size=32, sample_interval=64)\n",
        "    else:\n",
        "        gan.sample_images('images/test_images.png')"
      ],
      "execution_count": 21,
      "outputs": [
        {
          "output_type": "stream",
          "text": [
            "Dataset loaded.\n",
            "img :  (?, 128, 128, 3)\n"
          ],
          "name": "stdout"
        },
        {
          "output_type": "stream",
          "text": [
            "/usr/local/lib/python3.6/dist-packages/keras/engine/training.py:490: UserWarning: Discrepancy between trainable weights and collected trainable weights, did you set `model.trainable` without calling `model.compile` after ?\n",
            "  'Discrepancy between trainable weights and collected trainable'\n"
          ],
          "name": "stderr"
        },
        {
          "output_type": "stream",
          "text": [
            "0 [D loss: 0.946702, acc.: 50.37%] [G loss: -0.635409]\n",
            "Dataset loaded.\n",
            "img :  (?, 128, 128, 3)\n",
            "1 [D loss: 0.794715, acc.: 50.85%] [G loss: -0.180114]\n",
            "2 [D loss: 0.591364, acc.: 52.40%] [G loss: -0.132091]\n",
            "3 [D loss: 0.590899, acc.: 50.53%] [G loss: -0.150732]\n",
            "4 [D loss: 0.550818, acc.: 52.35%] [G loss: -0.195277]\n",
            "5 [D loss: 0.507792, acc.: 51.40%] [G loss: -0.132570]\n",
            "6 [D loss: 0.451640, acc.: 50.87%] [G loss: -0.159070]\n",
            "7 [D loss: 0.452132, acc.: 50.56%] [G loss: -0.160745]\n",
            "8 [D loss: 0.433737, acc.: 50.97%] [G loss: -0.212941]\n",
            "9 [D loss: 0.438653, acc.: 50.12%] [G loss: -0.166559]\n",
            "10 [D loss: 0.427764, acc.: 50.75%] [G loss: -0.222806]\n",
            "Dataset loaded.\n",
            "img :  (?, 128, 128, 3)\n",
            "11 [D loss: 0.432653, acc.: 50.15%] [G loss: -0.179186]\n",
            "12 [D loss: 0.435689, acc.: 50.10%] [G loss: -0.143552]\n",
            "13 [D loss: 0.442650, acc.: 50.63%] [G loss: -0.142919]\n",
            "14 [D loss: 0.436997, acc.: 50.20%] [G loss: -0.142929]\n",
            "15 [D loss: 0.417308, acc.: 50.67%] [G loss: -0.162583]\n",
            "16 [D loss: 0.414491, acc.: 50.26%] [G loss: -0.157550]\n",
            "17 [D loss: 0.416206, acc.: 50.70%] [G loss: -0.177135]\n",
            "18 [D loss: 0.422318, acc.: 49.81%] [G loss: -0.268188]\n",
            "19 [D loss: 0.484979, acc.: 50.53%] [G loss: -0.034418]\n",
            "20 [D loss: 0.673770, acc.: 50.49%] [G loss: -0.141063]\n",
            "Dataset loaded.\n",
            "img :  (?, 128, 128, 3)\n",
            "21 [D loss: 0.602144, acc.: 49.98%] [G loss: -0.207143]\n",
            "22 [D loss: 0.511946, acc.: 49.60%] [G loss: -0.087479]\n",
            "23 [D loss: 0.877737, acc.: 51.61%] [G loss: -0.130762]\n",
            "24 [D loss: 0.643441, acc.: 48.36%] [G loss: -0.455116]\n",
            "25 [D loss: 0.554062, acc.: 50.80%] [G loss: -0.070402]\n",
            "26 [D loss: 1.287880, acc.: 50.38%] [G loss: -0.080474]\n",
            "27 [D loss: 0.618870, acc.: 52.09%] [G loss: -0.136848]\n",
            "28 [D loss: 0.460445, acc.: 49.49%] [G loss: -0.294242]\n",
            "29 [D loss: 0.455889, acc.: 50.43%] [G loss: -0.154713]\n",
            "30 [D loss: 0.423161, acc.: 50.58%] [G loss: -0.130981]\n",
            "Dataset loaded.\n",
            "img :  (?, 128, 128, 3)\n",
            "31 [D loss: 0.422432, acc.: 50.57%] [G loss: -0.145756]\n",
            "32 [D loss: 0.419088, acc.: 50.70%] [G loss: -0.157179]\n",
            "33 [D loss: 0.421013, acc.: 50.95%] [G loss: -0.151080]\n",
            "34 [D loss: 0.415111, acc.: 51.47%] [G loss: -0.110550]\n",
            "35 [D loss: 0.416587, acc.: 51.53%] [G loss: -0.145874]\n",
            "36 [D loss: 0.419741, acc.: 51.18%] [G loss: -0.237235]\n",
            "37 [D loss: 0.445022, acc.: 52.15%] [G loss: -0.067075]\n",
            "38 [D loss: 0.485050, acc.: 51.81%] [G loss: -0.312775]\n",
            "39 [D loss: 0.439908, acc.: 51.20%] [G loss: -0.261808]\n",
            "40 [D loss: 0.432144, acc.: 51.86%] [G loss: -0.112071]\n",
            "Dataset loaded.\n",
            "img :  (?, 128, 128, 3)\n",
            "41 [D loss: 0.439468, acc.: 51.88%] [G loss: -0.245542]\n",
            "42 [D loss: 0.417892, acc.: 51.99%] [G loss: -0.183921]\n",
            "43 [D loss: 0.418850, acc.: 52.60%] [G loss: -0.239079]\n",
            "44 [D loss: 0.421841, acc.: 53.55%] [G loss: -0.108932]\n",
            "45 [D loss: 0.440476, acc.: 52.51%] [G loss: -0.279180]\n",
            "46 [D loss: 0.446211, acc.: 54.43%] [G loss: -0.055922]\n",
            "47 [D loss: 0.476406, acc.: 51.93%] [G loss: -0.197035]\n",
            "48 [D loss: 0.435091, acc.: 53.02%] [G loss: -0.138816]\n",
            "49 [D loss: 0.417997, acc.: 53.92%] [G loss: -0.139976]\n",
            "50 [D loss: 0.408354, acc.: 53.22%] [G loss: -0.151376]\n",
            "Dataset loaded.\n",
            "img :  (?, 128, 128, 3)\n",
            "51 [D loss: 0.407784, acc.: 53.39%] [G loss: -0.137910]\n",
            "52 [D loss: 0.404831, acc.: 53.20%] [G loss: -0.156344]\n",
            "53 [D loss: 0.404862, acc.: 52.65%] [G loss: -0.184032]\n",
            "54 [D loss: 0.404705, acc.: 52.76%] [G loss: -0.150195]\n",
            "55 [D loss: 0.402752, acc.: 53.45%] [G loss: -0.140580]\n",
            "56 [D loss: 0.404897, acc.: 52.47%] [G loss: -0.188167]\n",
            "57 [D loss: 0.406454, acc.: 53.26%] [G loss: -0.138983]\n",
            "58 [D loss: 0.406259, acc.: 52.59%] [G loss: -0.162327]\n",
            "59 [D loss: 0.402249, acc.: 53.30%] [G loss: -0.144934]\n",
            "60 [D loss: 0.402851, acc.: 52.49%] [G loss: -0.137667]\n",
            "Dataset loaded.\n",
            "img :  (?, 128, 128, 3)\n",
            "61 [D loss: 0.401674, acc.: 53.10%] [G loss: -0.150654]\n",
            "62 [D loss: 0.400689, acc.: 52.57%] [G loss: -0.149907]\n",
            "63 [D loss: 0.401401, acc.: 52.24%] [G loss: -0.181486]\n",
            "64 [D loss: 0.401805, acc.: 52.33%] [G loss: -0.147515]\n",
            "65 [D loss: 0.400127, acc.: 52.94%] [G loss: -0.137524]\n",
            "66 [D loss: 0.402110, acc.: 51.89%] [G loss: -0.182507]\n",
            "67 [D loss: 0.402369, acc.: 52.36%] [G loss: -0.146187]\n",
            "68 [D loss: 0.402129, acc.: 52.10%] [G loss: -0.157774]\n",
            "69 [D loss: 0.399420, acc.: 52.32%] [G loss: -0.149638]\n",
            "70 [D loss: 0.400530, acc.: 51.90%] [G loss: -0.137866]\n",
            "Dataset loaded.\n",
            "img :  (?, 128, 128, 3)\n",
            "71 [D loss: 0.400264, acc.: 52.26%] [G loss: -0.155580]\n",
            "72 [D loss: 0.398859, acc.: 51.86%] [G loss: -0.150868]\n",
            "73 [D loss: 0.399280, acc.: 51.36%] [G loss: -0.190719]\n",
            "74 [D loss: 0.399872, acc.: 51.63%] [G loss: -0.153097]\n",
            "75 [D loss: 0.398603, acc.: 51.93%] [G loss: -0.140749]\n",
            "76 [D loss: 0.400509, acc.: 51.04%] [G loss: -0.180159]\n",
            "77 [D loss: 0.399730, acc.: 51.30%] [G loss: -0.159881]\n",
            "78 [D loss: 0.399251, acc.: 51.30%] [G loss: -0.153898]\n",
            "79 [D loss: 0.397879, acc.: 51.11%] [G loss: -0.160105]\n",
            "80 [D loss: 0.399690, acc.: 50.98%] [G loss: -0.139594]\n",
            "Dataset loaded.\n",
            "img :  (?, 128, 128, 3)\n"
          ],
          "name": "stdout"
        },
        {
          "output_type": "error",
          "ename": "KeyboardInterrupt",
          "evalue": "ignored",
          "traceback": [
            "\u001b[0;31m---------------------------------------------------------------------------\u001b[0m",
            "\u001b[0;31mKeyboardInterrupt\u001b[0m                         Traceback (most recent call last)",
            "\u001b[0;32m<ipython-input-21-30e55d583d27>\u001b[0m in \u001b[0;36m<module>\u001b[0;34m()\u001b[0m\n\u001b[1;32m     20\u001b[0m \u001b[0;34m\u001b[0m\u001b[0m\n\u001b[1;32m     21\u001b[0m     \u001b[0;32mif\u001b[0m \u001b[0;34m(\u001b[0m\u001b[0mis_training\u001b[0m \u001b[0;34m==\u001b[0m\u001b[0;36m1\u001b[0m\u001b[0;34m)\u001b[0m\u001b[0;34m:\u001b[0m\u001b[0;34m\u001b[0m\u001b[0;34m\u001b[0m\u001b[0m\n\u001b[0;32m---> 22\u001b[0;31m         \u001b[0mgan\u001b[0m\u001b[0;34m.\u001b[0m\u001b[0mtrain\u001b[0m\u001b[0;34m(\u001b[0m\u001b[0mepochs\u001b[0m\u001b[0;34m=\u001b[0m\u001b[0;36m100\u001b[0m\u001b[0;34m,\u001b[0m \u001b[0mbatch_size\u001b[0m\u001b[0;34m=\u001b[0m\u001b[0;36m32\u001b[0m\u001b[0;34m,\u001b[0m \u001b[0msample_interval\u001b[0m\u001b[0;34m=\u001b[0m\u001b[0;36m64\u001b[0m\u001b[0;34m)\u001b[0m\u001b[0;34m\u001b[0m\u001b[0;34m\u001b[0m\u001b[0m\n\u001b[0m\u001b[1;32m     23\u001b[0m     \u001b[0;32melse\u001b[0m\u001b[0;34m:\u001b[0m\u001b[0;34m\u001b[0m\u001b[0;34m\u001b[0m\u001b[0m\n\u001b[1;32m     24\u001b[0m         \u001b[0mgan\u001b[0m\u001b[0;34m.\u001b[0m\u001b[0msample_images\u001b[0m\u001b[0;34m(\u001b[0m\u001b[0;34m'images/test_images.png'\u001b[0m\u001b[0;34m)\u001b[0m\u001b[0;34m\u001b[0m\u001b[0;34m\u001b[0m\u001b[0m\n",
            "\u001b[0;32m<ipython-input-20-903ed60bb2ab>\u001b[0m in \u001b[0;36mtrain\u001b[0;34m(self, epochs, batch_size, sample_interval)\u001b[0m\n\u001b[1;32m    244\u001b[0m             \u001b[0;32mif\u001b[0m \u001b[0;34m(\u001b[0m\u001b[0mepoch\u001b[0m \u001b[0;34m%\u001b[0m \u001b[0;36m10\u001b[0m \u001b[0;34m==\u001b[0m \u001b[0;36m0\u001b[0m\u001b[0;34m)\u001b[0m\u001b[0;34m:\u001b[0m\u001b[0;34m\u001b[0m\u001b[0;34m\u001b[0m\u001b[0m\n\u001b[1;32m    245\u001b[0m                 \u001b[0mself\u001b[0m\u001b[0;34m.\u001b[0m\u001b[0msample_images\u001b[0m\u001b[0;34m(\u001b[0m\u001b[0;34m'images/'\u001b[0m\u001b[0;34m+\u001b[0m\u001b[0mself\u001b[0m\u001b[0;34m.\u001b[0m\u001b[0mdataset_name\u001b[0m\u001b[0;34m+\u001b[0m\u001b[0;34m'_sample_%06d.png'\u001b[0m \u001b[0;34m%\u001b[0m \u001b[0mepoch\u001b[0m\u001b[0;34m)\u001b[0m\u001b[0;34m\u001b[0m\u001b[0;34m\u001b[0m\u001b[0m\n\u001b[0;32m--> 246\u001b[0;31m                 \u001b[0mself\u001b[0m\u001b[0;34m.\u001b[0m\u001b[0msave_gan_model\u001b[0m\u001b[0;34m(\u001b[0m\u001b[0mself\u001b[0m\u001b[0;34m.\u001b[0m\u001b[0mmodel_file\u001b[0m\u001b[0;34m)\u001b[0m\u001b[0;34m\u001b[0m\u001b[0;34m\u001b[0m\u001b[0m\n\u001b[0m\u001b[1;32m    247\u001b[0m \u001b[0;34m\u001b[0m\u001b[0m\n\u001b[1;32m    248\u001b[0m     \u001b[0;32mdef\u001b[0m \u001b[0msample_images\u001b[0m\u001b[0;34m(\u001b[0m\u001b[0mself\u001b[0m\u001b[0;34m,\u001b[0m \u001b[0mimage_filename\u001b[0m\u001b[0;34m,\u001b[0m \u001b[0mrand_seed\u001b[0m\u001b[0;34m=\u001b[0m\u001b[0;36m30\u001b[0m\u001b[0;34m)\u001b[0m\u001b[0;34m:\u001b[0m\u001b[0;34m\u001b[0m\u001b[0;34m\u001b[0m\u001b[0m\n",
            "\u001b[0;32m<ipython-input-20-903ed60bb2ab>\u001b[0m in \u001b[0;36msave_gan_model\u001b[0;34m(self, model_file)\u001b[0m\n\u001b[1;32m    159\u001b[0m         \u001b[0mgan_temp\u001b[0m\u001b[0;34m.\u001b[0m\u001b[0miter_count\u001b[0m \u001b[0;34m=\u001b[0m \u001b[0mself\u001b[0m\u001b[0;34m.\u001b[0m\u001b[0miter_count\u001b[0m\u001b[0;34m\u001b[0m\u001b[0;34m\u001b[0m\u001b[0m\n\u001b[1;32m    160\u001b[0m         \u001b[0;32mwith\u001b[0m \u001b[0mopen\u001b[0m\u001b[0;34m(\u001b[0m\u001b[0mmodel_file\u001b[0m\u001b[0;34m,\u001b[0m\u001b[0;34m'wb'\u001b[0m\u001b[0;34m)\u001b[0m \u001b[0;32mas\u001b[0m \u001b[0mfile_class\u001b[0m\u001b[0;34m:\u001b[0m\u001b[0;34m\u001b[0m\u001b[0;34m\u001b[0m\u001b[0m\n\u001b[0;32m--> 161\u001b[0;31m             \u001b[0mpickle\u001b[0m\u001b[0;34m.\u001b[0m\u001b[0mdump\u001b[0m\u001b[0;34m(\u001b[0m\u001b[0mgan_temp\u001b[0m\u001b[0;34m,\u001b[0m\u001b[0mfile_class\u001b[0m\u001b[0;34m,\u001b[0m\u001b[0;34m-\u001b[0m\u001b[0;36m1\u001b[0m\u001b[0;34m)\u001b[0m\u001b[0;34m\u001b[0m\u001b[0;34m\u001b[0m\u001b[0m\n\u001b[0m\u001b[1;32m    162\u001b[0m \u001b[0;34m\u001b[0m\u001b[0m\n\u001b[1;32m    163\u001b[0m     \u001b[0;32mdef\u001b[0m \u001b[0mload_gan_model\u001b[0m\u001b[0;34m(\u001b[0m\u001b[0mself\u001b[0m\u001b[0;34m,\u001b[0m \u001b[0mmodel_file\u001b[0m\u001b[0;34m)\u001b[0m\u001b[0;34m:\u001b[0m\u001b[0;34m\u001b[0m\u001b[0;34m\u001b[0m\u001b[0m\n",
            "\u001b[0;32m/usr/local/lib/python3.6/dist-packages/keras/engine/network.py\u001b[0m in \u001b[0;36m__getstate__\u001b[0;34m(self)\u001b[0m\n\u001b[1;32m   1261\u001b[0m \u001b[0;34m\u001b[0m\u001b[0m\n\u001b[1;32m   1262\u001b[0m     \u001b[0;32mdef\u001b[0m \u001b[0m__getstate__\u001b[0m\u001b[0;34m(\u001b[0m\u001b[0mself\u001b[0m\u001b[0;34m)\u001b[0m\u001b[0;34m:\u001b[0m\u001b[0;34m\u001b[0m\u001b[0;34m\u001b[0m\u001b[0m\n\u001b[0;32m-> 1263\u001b[0;31m         \u001b[0;32mreturn\u001b[0m \u001b[0msaving\u001b[0m\u001b[0;34m.\u001b[0m\u001b[0mpickle_model\u001b[0m\u001b[0;34m(\u001b[0m\u001b[0mself\u001b[0m\u001b[0;34m)\u001b[0m\u001b[0;34m\u001b[0m\u001b[0;34m\u001b[0m\u001b[0m\n\u001b[0m\u001b[1;32m   1264\u001b[0m \u001b[0;34m\u001b[0m\u001b[0m\n\u001b[1;32m   1265\u001b[0m     \u001b[0;32mdef\u001b[0m \u001b[0m__setstate__\u001b[0m\u001b[0;34m(\u001b[0m\u001b[0mself\u001b[0m\u001b[0;34m,\u001b[0m \u001b[0mstate\u001b[0m\u001b[0;34m)\u001b[0m\u001b[0;34m:\u001b[0m\u001b[0;34m\u001b[0m\u001b[0;34m\u001b[0m\u001b[0m\n",
            "\u001b[0;32m/usr/local/lib/python3.6/dist-packages/keras/engine/saving.py\u001b[0m in \u001b[0;36mpickle_model\u001b[0;34m(model)\u001b[0m\n\u001b[1;32m    427\u001b[0m     \u001b[0md\u001b[0m \u001b[0;34m=\u001b[0m \u001b[0;34m{\u001b[0m\u001b[0;34m}\u001b[0m\u001b[0;34m\u001b[0m\u001b[0;34m\u001b[0m\u001b[0m\n\u001b[1;32m    428\u001b[0m     \u001b[0mf\u001b[0m \u001b[0;34m=\u001b[0m \u001b[0mh5dict\u001b[0m\u001b[0;34m(\u001b[0m\u001b[0md\u001b[0m\u001b[0;34m)\u001b[0m\u001b[0;34m\u001b[0m\u001b[0;34m\u001b[0m\u001b[0m\n\u001b[0;32m--> 429\u001b[0;31m     \u001b[0m_serialize_model\u001b[0m\u001b[0;34m(\u001b[0m\u001b[0mmodel\u001b[0m\u001b[0;34m,\u001b[0m \u001b[0mf\u001b[0m\u001b[0;34m)\u001b[0m\u001b[0;34m\u001b[0m\u001b[0;34m\u001b[0m\u001b[0m\n\u001b[0m\u001b[1;32m    430\u001b[0m     \u001b[0;32mreturn\u001b[0m \u001b[0md\u001b[0m\u001b[0;34m\u001b[0m\u001b[0;34m\u001b[0m\u001b[0m\n\u001b[1;32m    431\u001b[0m \u001b[0;34m\u001b[0m\u001b[0m\n",
            "\u001b[0;32m/usr/local/lib/python3.6/dist-packages/keras/engine/saving.py\u001b[0m in \u001b[0;36m_serialize_model\u001b[0;34m(model, f, include_optimizer)\u001b[0m\n\u001b[1;32m     95\u001b[0m         \u001b[0mlayer_group\u001b[0m \u001b[0;34m=\u001b[0m \u001b[0mmodel_weights_group\u001b[0m\u001b[0;34m[\u001b[0m\u001b[0mlayer\u001b[0m\u001b[0;34m.\u001b[0m\u001b[0mname\u001b[0m\u001b[0;34m]\u001b[0m\u001b[0;34m\u001b[0m\u001b[0;34m\u001b[0m\u001b[0m\n\u001b[1;32m     96\u001b[0m         \u001b[0msymbolic_weights\u001b[0m \u001b[0;34m=\u001b[0m \u001b[0mlayer\u001b[0m\u001b[0;34m.\u001b[0m\u001b[0mweights\u001b[0m\u001b[0;34m\u001b[0m\u001b[0;34m\u001b[0m\u001b[0m\n\u001b[0;32m---> 97\u001b[0;31m         \u001b[0mweight_values\u001b[0m \u001b[0;34m=\u001b[0m \u001b[0mK\u001b[0m\u001b[0;34m.\u001b[0m\u001b[0mbatch_get_value\u001b[0m\u001b[0;34m(\u001b[0m\u001b[0msymbolic_weights\u001b[0m\u001b[0;34m)\u001b[0m\u001b[0;34m\u001b[0m\u001b[0;34m\u001b[0m\u001b[0m\n\u001b[0m\u001b[1;32m     98\u001b[0m         \u001b[0mweight_names\u001b[0m \u001b[0;34m=\u001b[0m \u001b[0;34m[\u001b[0m\u001b[0;34m]\u001b[0m\u001b[0;34m\u001b[0m\u001b[0;34m\u001b[0m\u001b[0m\n\u001b[1;32m     99\u001b[0m         \u001b[0;32mfor\u001b[0m \u001b[0mi\u001b[0m\u001b[0;34m,\u001b[0m \u001b[0;34m(\u001b[0m\u001b[0mw\u001b[0m\u001b[0;34m,\u001b[0m \u001b[0mval\u001b[0m\u001b[0;34m)\u001b[0m \u001b[0;32min\u001b[0m \u001b[0menumerate\u001b[0m\u001b[0;34m(\u001b[0m\u001b[0mzip\u001b[0m\u001b[0;34m(\u001b[0m\u001b[0msymbolic_weights\u001b[0m\u001b[0;34m,\u001b[0m \u001b[0mweight_values\u001b[0m\u001b[0;34m)\u001b[0m\u001b[0;34m)\u001b[0m\u001b[0;34m:\u001b[0m\u001b[0;34m\u001b[0m\u001b[0;34m\u001b[0m\u001b[0m\n",
            "\u001b[0;32m/usr/local/lib/python3.6/dist-packages/keras/backend/tensorflow_backend.py\u001b[0m in \u001b[0;36mbatch_get_value\u001b[0;34m(ops)\u001b[0m\n\u001b[1;32m   2418\u001b[0m     \"\"\"\n\u001b[1;32m   2419\u001b[0m     \u001b[0;32mif\u001b[0m \u001b[0mops\u001b[0m\u001b[0;34m:\u001b[0m\u001b[0;34m\u001b[0m\u001b[0;34m\u001b[0m\u001b[0m\n\u001b[0;32m-> 2420\u001b[0;31m         \u001b[0;32mreturn\u001b[0m \u001b[0mget_session\u001b[0m\u001b[0;34m(\u001b[0m\u001b[0;34m)\u001b[0m\u001b[0;34m.\u001b[0m\u001b[0mrun\u001b[0m\u001b[0;34m(\u001b[0m\u001b[0mops\u001b[0m\u001b[0;34m)\u001b[0m\u001b[0;34m\u001b[0m\u001b[0;34m\u001b[0m\u001b[0m\n\u001b[0m\u001b[1;32m   2421\u001b[0m     \u001b[0;32melse\u001b[0m\u001b[0;34m:\u001b[0m\u001b[0;34m\u001b[0m\u001b[0;34m\u001b[0m\u001b[0m\n\u001b[1;32m   2422\u001b[0m         \u001b[0;32mreturn\u001b[0m \u001b[0;34m[\u001b[0m\u001b[0;34m]\u001b[0m\u001b[0;34m\u001b[0m\u001b[0;34m\u001b[0m\u001b[0m\n",
            "\u001b[0;32m/usr/local/lib/python3.6/dist-packages/keras/backend/tensorflow_backend.py\u001b[0m in \u001b[0;36mget_session\u001b[0;34m()\u001b[0m\n\u001b[1;32m    197\u001b[0m                 \u001b[0;31m# not already marked as initialized.\u001b[0m\u001b[0;34m\u001b[0m\u001b[0;34m\u001b[0m\u001b[0;34m\u001b[0m\u001b[0m\n\u001b[1;32m    198\u001b[0m                 is_initialized = session.run(\n\u001b[0;32m--> 199\u001b[0;31m                     [tf.is_variable_initialized(v) for v in candidate_vars])\n\u001b[0m\u001b[1;32m    200\u001b[0m                 \u001b[0muninitialized_vars\u001b[0m \u001b[0;34m=\u001b[0m \u001b[0;34m[\u001b[0m\u001b[0;34m]\u001b[0m\u001b[0;34m\u001b[0m\u001b[0;34m\u001b[0m\u001b[0m\n\u001b[1;32m    201\u001b[0m                 \u001b[0;32mfor\u001b[0m \u001b[0mflag\u001b[0m\u001b[0;34m,\u001b[0m \u001b[0mv\u001b[0m \u001b[0;32min\u001b[0m \u001b[0mzip\u001b[0m\u001b[0;34m(\u001b[0m\u001b[0mis_initialized\u001b[0m\u001b[0;34m,\u001b[0m \u001b[0mcandidate_vars\u001b[0m\u001b[0;34m)\u001b[0m\u001b[0;34m:\u001b[0m\u001b[0;34m\u001b[0m\u001b[0;34m\u001b[0m\u001b[0m\n",
            "\u001b[0;32m/usr/local/lib/python3.6/dist-packages/tensorflow/python/client/session.py\u001b[0m in \u001b[0;36mrun\u001b[0;34m(self, fetches, feed_dict, options, run_metadata)\u001b[0m\n\u001b[1;32m    927\u001b[0m     \u001b[0;32mtry\u001b[0m\u001b[0;34m:\u001b[0m\u001b[0;34m\u001b[0m\u001b[0;34m\u001b[0m\u001b[0m\n\u001b[1;32m    928\u001b[0m       result = self._run(None, fetches, feed_dict, options_ptr,\n\u001b[0;32m--> 929\u001b[0;31m                          run_metadata_ptr)\n\u001b[0m\u001b[1;32m    930\u001b[0m       \u001b[0;32mif\u001b[0m \u001b[0mrun_metadata\u001b[0m\u001b[0;34m:\u001b[0m\u001b[0;34m\u001b[0m\u001b[0;34m\u001b[0m\u001b[0m\n\u001b[1;32m    931\u001b[0m         \u001b[0mproto_data\u001b[0m \u001b[0;34m=\u001b[0m \u001b[0mtf_session\u001b[0m\u001b[0;34m.\u001b[0m\u001b[0mTF_GetBuffer\u001b[0m\u001b[0;34m(\u001b[0m\u001b[0mrun_metadata_ptr\u001b[0m\u001b[0;34m)\u001b[0m\u001b[0;34m\u001b[0m\u001b[0;34m\u001b[0m\u001b[0m\n",
            "\u001b[0;32m/usr/local/lib/python3.6/dist-packages/tensorflow/python/client/session.py\u001b[0m in \u001b[0;36m_run\u001b[0;34m(self, handle, fetches, feed_dict, options, run_metadata)\u001b[0m\n\u001b[1;32m   1150\u001b[0m     \u001b[0;32mif\u001b[0m \u001b[0mfinal_fetches\u001b[0m \u001b[0;32mor\u001b[0m \u001b[0mfinal_targets\u001b[0m \u001b[0;32mor\u001b[0m \u001b[0;34m(\u001b[0m\u001b[0mhandle\u001b[0m \u001b[0;32mand\u001b[0m \u001b[0mfeed_dict_tensor\u001b[0m\u001b[0;34m)\u001b[0m\u001b[0;34m:\u001b[0m\u001b[0;34m\u001b[0m\u001b[0;34m\u001b[0m\u001b[0m\n\u001b[1;32m   1151\u001b[0m       results = self._do_run(handle, final_targets, final_fetches,\n\u001b[0;32m-> 1152\u001b[0;31m                              feed_dict_tensor, options, run_metadata)\n\u001b[0m\u001b[1;32m   1153\u001b[0m     \u001b[0;32melse\u001b[0m\u001b[0;34m:\u001b[0m\u001b[0;34m\u001b[0m\u001b[0;34m\u001b[0m\u001b[0m\n\u001b[1;32m   1154\u001b[0m       \u001b[0mresults\u001b[0m \u001b[0;34m=\u001b[0m \u001b[0;34m[\u001b[0m\u001b[0;34m]\u001b[0m\u001b[0;34m\u001b[0m\u001b[0;34m\u001b[0m\u001b[0m\n",
            "\u001b[0;32m/usr/local/lib/python3.6/dist-packages/tensorflow/python/client/session.py\u001b[0m in \u001b[0;36m_do_run\u001b[0;34m(self, handle, target_list, fetch_list, feed_dict, options, run_metadata)\u001b[0m\n\u001b[1;32m   1326\u001b[0m     \u001b[0;32mif\u001b[0m \u001b[0mhandle\u001b[0m \u001b[0;32mis\u001b[0m \u001b[0;32mNone\u001b[0m\u001b[0;34m:\u001b[0m\u001b[0;34m\u001b[0m\u001b[0;34m\u001b[0m\u001b[0m\n\u001b[1;32m   1327\u001b[0m       return self._do_call(_run_fn, feeds, fetches, targets, options,\n\u001b[0;32m-> 1328\u001b[0;31m                            run_metadata)\n\u001b[0m\u001b[1;32m   1329\u001b[0m     \u001b[0;32melse\u001b[0m\u001b[0;34m:\u001b[0m\u001b[0;34m\u001b[0m\u001b[0;34m\u001b[0m\u001b[0m\n\u001b[1;32m   1330\u001b[0m       \u001b[0;32mreturn\u001b[0m \u001b[0mself\u001b[0m\u001b[0;34m.\u001b[0m\u001b[0m_do_call\u001b[0m\u001b[0;34m(\u001b[0m\u001b[0m_prun_fn\u001b[0m\u001b[0;34m,\u001b[0m \u001b[0mhandle\u001b[0m\u001b[0;34m,\u001b[0m \u001b[0mfeeds\u001b[0m\u001b[0;34m,\u001b[0m \u001b[0mfetches\u001b[0m\u001b[0;34m)\u001b[0m\u001b[0;34m\u001b[0m\u001b[0;34m\u001b[0m\u001b[0m\n",
            "\u001b[0;32m/usr/local/lib/python3.6/dist-packages/tensorflow/python/client/session.py\u001b[0m in \u001b[0;36m_do_call\u001b[0;34m(self, fn, *args)\u001b[0m\n\u001b[1;32m   1332\u001b[0m   \u001b[0;32mdef\u001b[0m \u001b[0m_do_call\u001b[0m\u001b[0;34m(\u001b[0m\u001b[0mself\u001b[0m\u001b[0;34m,\u001b[0m \u001b[0mfn\u001b[0m\u001b[0;34m,\u001b[0m \u001b[0;34m*\u001b[0m\u001b[0margs\u001b[0m\u001b[0;34m)\u001b[0m\u001b[0;34m:\u001b[0m\u001b[0;34m\u001b[0m\u001b[0;34m\u001b[0m\u001b[0m\n\u001b[1;32m   1333\u001b[0m     \u001b[0;32mtry\u001b[0m\u001b[0;34m:\u001b[0m\u001b[0;34m\u001b[0m\u001b[0;34m\u001b[0m\u001b[0m\n\u001b[0;32m-> 1334\u001b[0;31m       \u001b[0;32mreturn\u001b[0m \u001b[0mfn\u001b[0m\u001b[0;34m(\u001b[0m\u001b[0;34m*\u001b[0m\u001b[0margs\u001b[0m\u001b[0;34m)\u001b[0m\u001b[0;34m\u001b[0m\u001b[0;34m\u001b[0m\u001b[0m\n\u001b[0m\u001b[1;32m   1335\u001b[0m     \u001b[0;32mexcept\u001b[0m \u001b[0merrors\u001b[0m\u001b[0;34m.\u001b[0m\u001b[0mOpError\u001b[0m \u001b[0;32mas\u001b[0m \u001b[0me\u001b[0m\u001b[0;34m:\u001b[0m\u001b[0;34m\u001b[0m\u001b[0;34m\u001b[0m\u001b[0m\n\u001b[1;32m   1336\u001b[0m       \u001b[0mmessage\u001b[0m \u001b[0;34m=\u001b[0m \u001b[0mcompat\u001b[0m\u001b[0;34m.\u001b[0m\u001b[0mas_text\u001b[0m\u001b[0;34m(\u001b[0m\u001b[0me\u001b[0m\u001b[0;34m.\u001b[0m\u001b[0mmessage\u001b[0m\u001b[0;34m)\u001b[0m\u001b[0;34m\u001b[0m\u001b[0;34m\u001b[0m\u001b[0m\n",
            "\u001b[0;32m/usr/local/lib/python3.6/dist-packages/tensorflow/python/client/session.py\u001b[0m in \u001b[0;36m_run_fn\u001b[0;34m(feed_dict, fetch_list, target_list, options, run_metadata)\u001b[0m\n\u001b[1;32m   1315\u001b[0m     \u001b[0;32mdef\u001b[0m \u001b[0m_run_fn\u001b[0m\u001b[0;34m(\u001b[0m\u001b[0mfeed_dict\u001b[0m\u001b[0;34m,\u001b[0m \u001b[0mfetch_list\u001b[0m\u001b[0;34m,\u001b[0m \u001b[0mtarget_list\u001b[0m\u001b[0;34m,\u001b[0m \u001b[0moptions\u001b[0m\u001b[0;34m,\u001b[0m \u001b[0mrun_metadata\u001b[0m\u001b[0;34m)\u001b[0m\u001b[0;34m:\u001b[0m\u001b[0;34m\u001b[0m\u001b[0;34m\u001b[0m\u001b[0m\n\u001b[1;32m   1316\u001b[0m       \u001b[0;31m# Ensure any changes to the graph are reflected in the runtime.\u001b[0m\u001b[0;34m\u001b[0m\u001b[0;34m\u001b[0m\u001b[0;34m\u001b[0m\u001b[0m\n\u001b[0;32m-> 1317\u001b[0;31m       \u001b[0mself\u001b[0m\u001b[0;34m.\u001b[0m\u001b[0m_extend_graph\u001b[0m\u001b[0;34m(\u001b[0m\u001b[0;34m)\u001b[0m\u001b[0;34m\u001b[0m\u001b[0;34m\u001b[0m\u001b[0m\n\u001b[0m\u001b[1;32m   1318\u001b[0m       return self._call_tf_sessionrun(\n\u001b[1;32m   1319\u001b[0m           options, feed_dict, fetch_list, target_list, run_metadata)\n",
            "\u001b[0;32m/usr/local/lib/python3.6/dist-packages/tensorflow/python/client/session.py\u001b[0m in \u001b[0;36m_extend_graph\u001b[0;34m(self)\u001b[0m\n\u001b[1;32m   1350\u001b[0m   \u001b[0;32mdef\u001b[0m \u001b[0m_extend_graph\u001b[0m\u001b[0;34m(\u001b[0m\u001b[0mself\u001b[0m\u001b[0;34m)\u001b[0m\u001b[0;34m:\u001b[0m\u001b[0;34m\u001b[0m\u001b[0;34m\u001b[0m\u001b[0m\n\u001b[1;32m   1351\u001b[0m     \u001b[0;32mwith\u001b[0m \u001b[0mself\u001b[0m\u001b[0;34m.\u001b[0m\u001b[0m_graph\u001b[0m\u001b[0;34m.\u001b[0m\u001b[0m_session_run_lock\u001b[0m\u001b[0;34m(\u001b[0m\u001b[0;34m)\u001b[0m\u001b[0;34m:\u001b[0m  \u001b[0;31m# pylint: disable=protected-access\u001b[0m\u001b[0;34m\u001b[0m\u001b[0;34m\u001b[0m\u001b[0m\n\u001b[0;32m-> 1352\u001b[0;31m       \u001b[0mtf_session\u001b[0m\u001b[0;34m.\u001b[0m\u001b[0mExtendSession\u001b[0m\u001b[0;34m(\u001b[0m\u001b[0mself\u001b[0m\u001b[0;34m.\u001b[0m\u001b[0m_session\u001b[0m\u001b[0;34m)\u001b[0m\u001b[0;34m\u001b[0m\u001b[0;34m\u001b[0m\u001b[0m\n\u001b[0m\u001b[1;32m   1353\u001b[0m \u001b[0;34m\u001b[0m\u001b[0m\n\u001b[1;32m   1354\u001b[0m   \u001b[0;31m# The threshold to run garbage collection to delete dead tensors.\u001b[0m\u001b[0;34m\u001b[0m\u001b[0;34m\u001b[0m\u001b[0;34m\u001b[0m\u001b[0m\n",
            "\u001b[0;31mKeyboardInterrupt\u001b[0m: "
          ]
        }
      ]
    },
    {
      "metadata": {
        "id": "po1Im1Qg1NWl",
        "colab_type": "code",
        "colab": {}
      },
      "cell_type": "code",
      "source": [
        "gan.sample_images('images/test_images2_12.png')"
      ],
      "execution_count": 0,
      "outputs": []
    },
    {
      "metadata": {
        "id": "kRuuKf9MFzgu",
        "colab_type": "code",
        "colab": {}
      },
      "cell_type": "code",
      "source": [
        "im = Image.open(\"drive/My Drive/texture/patchset3/patchno\"+str(0)+\".jpg\")"
      ],
      "execution_count": 0,
      "outputs": []
    },
    {
      "metadata": {
        "id": "o6uUaXwsF6Sl",
        "colab_type": "code",
        "outputId": "17b843fc-51fc-4487-fecf-3326095cfef1",
        "colab": {
          "base_uri": "https://localhost:8080/",
          "height": 364
        }
      },
      "cell_type": "code",
      "source": [
        "import matplotlib.pyplot as plt\n",
        "\n",
        "plt.imshow(im)"
      ],
      "execution_count": 0,
      "outputs": [
        {
          "output_type": "execute_result",
          "data": {
            "text/plain": [
              "<matplotlib.image.AxesImage at 0x7f408db00b70>"
            ]
          },
          "metadata": {
            "tags": []
          },
          "execution_count": 125
        },
        {
          "output_type": "display_data",
          "data": {
            "image/png": "[encoded data removed]",
            "text/plain": [
              "<Figure size 576x396 with 1 Axes>"
            ]
          },
          "metadata": {
            "tags": []
          }
        }
      ]
    },
    {
      "metadata": {
        "id": "wGwrxWfLGLyR",
        "colab_type": "code",
        "outputId": "438b9f6e-f150-4680-d24e-4f53ac21db4f",
        "colab": {
          "base_uri": "https://localhost:8080/",
          "height": 34
        }
      },
      "cell_type": "code",
      "source": [
        "np.array(im).shape"
      ],
      "execution_count": 0,
      "outputs": [
        {
          "output_type": "execute_result",
          "data": {
            "text/plain": [
              "(32, 32, 3)"
            ]
          },
          "metadata": {
            "tags": []
          },
          "execution_count": 8
        }
      ]
    },
    {
      "metadata": {
        "id": "daKr6S4XKvV3",
        "colab_type": "code",
        "outputId": "48d04ccc-826d-4e42-b2d8-ec5e3b42a131",
        "colab": {
          "base_uri": "https://localhost:8080/",
          "height": 34
        }
      },
      "cell_type": "code",
      "source": [
        "np.max(im)"
      ],
      "execution_count": 0,
      "outputs": [
        {
          "output_type": "execute_result",
          "data": {
            "text/plain": [
              "255"
            ]
          },
          "metadata": {
            "tags": []
          },
          "execution_count": 9
        }
      ]
    },
    {
      "metadata": {
        "id": "HShiehElZF98",
        "colab_type": "code",
        "colab": {}
      },
      "cell_type": "code",
      "source": [
        ""
      ],
      "execution_count": 0,
      "outputs": []
    }
  ]
}